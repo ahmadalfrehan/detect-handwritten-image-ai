{
  "cells": [
    {
      "cell_type": "code",
      "execution_count": 2,
      "metadata": {
        "id": "JQ76QWJBjmOu"
      },
      "outputs": [],
      "source": [
        "# from kears.datasets import mnist\n",
        "from keras.datasets import mnist\n",
        "import matplotlib.pyplot as plt\n",
        "import numpy as np\n",
        "from keras.models import Sequential\n",
        "from keras.layers import Dense\n",
        "from keras.utils import np_utils"
      ]
    },
    {
      "cell_type": "code",
      "execution_count": 6,
      "metadata": {
        "id": "v-rCB-Tsj63J"
      },
      "outputs": [],
      "source": [
        "# print(mnist.load_data)"
      ]
    },
    {
      "cell_type": "code",
      "execution_count": 6,
      "metadata": {
        "colab": {
          "base_uri": "https://localhost:8080/",
          "height": 482
        },
        "id": "5_8lJSXNkZLP",
        "outputId": "c2ed3b1c-6ce7-4bb7-907b-4be9e3a86356"
      },
      "outputs": [
        {
          "name": "stdout",
          "output_type": "stream",
          "text": [
            "A local file was found, but it seems to be incomplete or outdated because the auto file hash does not match the original value of 731c5ac602752760c8e48fbffcf8c3b850d9dc2a2aedcf2cc48468fc17b673d1 so we will re-download the data.\n",
            "Downloading data from https://storage.googleapis.com/tensorflow/tf-keras-datasets/mnist.npz\n",
            " 2482176/11490434 [=====>........................] - ETA: 2:57"
          ]
        }
      ],
      "source": [
        "(X_train,y_train), (X_test, y_test)= mnist.load_data()\n",
        "plt.subplot()\n",
        "plt.imshow(X_train[0],cmap=plt.get_cmap('gray'))"
      ]
    },
    {
      "cell_type": "code",
      "execution_count": 8,
      "metadata": {
        "colab": {
          "base_uri": "https://localhost:8080/"
        },
        "id": "V5bW5C7ikfTp",
        "outputId": "eab29400-657c-4c14-d94c-5fc4866130dc"
      },
      "outputs": [
        {
          "name": "stdout",
          "output_type": "stream",
          "text": [
            "784\n"
          ]
        }
      ],
      "source": [
        "pixel_numbers  = X_train.shape[1]*X_train.shape[1]\n",
        "print(pixel_numbers)\n",
        "X_train = X_train.reshape(X_train.shape[0],pixel_numbers).astype('float32')\n",
        "X_test = X_test.reshape(X_test.shape[0],pixel_numbers).astype('float32')"
      ]
    },
    {
      "cell_type": "code",
      "execution_count": 9,
      "metadata": {
        "colab": {
          "base_uri": "https://localhost:8080/"
        },
        "id": "AqfAt1Y8lteE",
        "outputId": "8cf8214f-6965-4fc3-9ada-538e63157be5"
      },
      "outputs": [
        {
          "name": "stdout",
          "output_type": "stream",
          "text": [
            "10\n"
          ]
        }
      ],
      "source": [
        "X_train = X_train/255\n",
        "X_test = X_test/255\n",
        "y_train= np_utils.to_categorical(y_train)\n",
        "y_test= np_utils.to_categorical(y_test)\n",
        "num_classes=y_train.shape[1]\n",
        "print(num_classes)"
      ]
    },
    {
      "cell_type": "code",
      "execution_count": 10,
      "metadata": {
        "id": "U0ExO5BcnP3b"
      },
      "outputs": [],
      "source": [
        "from keras.engine.sequential import input_layer\n",
        "model  = Sequential()\n",
        "model.add(Dense(pixel_numbers, input_dim=pixel_numbers,activation='relu'))\n",
        "model.add(Dense(num_classes,activation='softmax'))\n",
        "model.compile(loss='categorical_crossentropy',optimizer='adam', metrics=['accuracy'])"
      ]
    },
    {
      "cell_type": "code",
      "execution_count": 11,
      "metadata": {
        "colab": {
          "base_uri": "https://localhost:8080/"
        },
        "id": "IyHc-BZAnUHt",
        "outputId": "17b5c526-1041-4070-c791-9acc02da8eb3"
      },
      "outputs": [
        {
          "name": "stdout",
          "output_type": "stream",
          "text": [
            "Epoch 1/10\n",
            "300/300 - 7s - loss: 0.2754 - accuracy: 0.9234 - val_loss: 0.1387 - val_accuracy: 0.9596 - 7s/epoch - 23ms/step\n",
            "Epoch 2/10\n",
            "300/300 - 6s - loss: 0.1112 - accuracy: 0.9679 - val_loss: 0.0940 - val_accuracy: 0.9699 - 6s/epoch - 19ms/step\n",
            "Epoch 3/10\n",
            "300/300 - 6s - loss: 0.0721 - accuracy: 0.9792 - val_loss: 0.0719 - val_accuracy: 0.9778 - 6s/epoch - 19ms/step\n",
            "Epoch 4/10\n",
            "300/300 - 5s - loss: 0.0504 - accuracy: 0.9856 - val_loss: 0.0741 - val_accuracy: 0.9769 - 5s/epoch - 16ms/step\n",
            "Epoch 5/10\n",
            "300/300 - 6s - loss: 0.0376 - accuracy: 0.9893 - val_loss: 0.0698 - val_accuracy: 0.9793 - 6s/epoch - 20ms/step\n",
            "Epoch 6/10\n",
            "300/300 - 5s - loss: 0.0274 - accuracy: 0.9925 - val_loss: 0.0637 - val_accuracy: 0.9812 - 5s/epoch - 16ms/step\n",
            "Epoch 7/10\n",
            "300/300 - 5s - loss: 0.0202 - accuracy: 0.9949 - val_loss: 0.0629 - val_accuracy: 0.9800 - 5s/epoch - 18ms/step\n",
            "Epoch 8/10\n",
            "300/300 - 5s - loss: 0.0154 - accuracy: 0.9964 - val_loss: 0.0634 - val_accuracy: 0.9797 - 5s/epoch - 17ms/step\n",
            "Epoch 9/10\n",
            "300/300 - 5s - loss: 0.0116 - accuracy: 0.9976 - val_loss: 0.0619 - val_accuracy: 0.9818 - 5s/epoch - 16ms/step\n",
            "Epoch 10/10\n",
            "300/300 - 6s - loss: 0.0078 - accuracy: 0.9986 - val_loss: 0.0569 - val_accuracy: 0.9826 - 6s/epoch - 19ms/step\n"
          ]
        },
        {
          "data": {
            "text/plain": [
              "<keras.callbacks.History at 0x7fc70440dab0>"
            ]
          },
          "execution_count": 11,
          "metadata": {},
          "output_type": "execute_result"
        }
      ],
      "source": [
        "model.fit(X_train,y_train,validation_data=(X_test,y_test),epochs=10,batch_size=200,verbose=2)"
      ]
    },
    {
      "cell_type": "code",
      "execution_count": 12,
      "metadata": {
        "colab": {
          "base_uri": "https://localhost:8080/"
        },
        "id": "sal2oaHBoYJV",
        "outputId": "4094a945-0221-4509-c419-15ed7a3c8c20"
      },
      "outputs": [
        {
          "name": "stdout",
          "output_type": "stream",
          "text": [
            "The error is: 1.74%\n"
          ]
        }
      ],
      "source": [
        "score= model.evaluate(X_test, y_test, verbose=0)\n",
        "print('The error is: %.2f%%'%(100-score[1]*100))"
      ]
    },
    {
      "cell_type": "code",
      "execution_count": 17,
      "metadata": {
        "colab": {
          "base_uri": "https://localhost:8080/"
        },
        "id": "WgOPhVHIoxAW",
        "outputId": "d320802e-ce2e-4383-c2f3-f205cc2185a1"
      },
      "outputs": [
        {
          "name": "stdout",
          "output_type": "stream",
          "text": [
            "1/1 [==============================] - 0s 26ms/step\n",
            "Predicted digit: 5\n"
          ]
        }
      ],
      "source": [
        "# import NumPy\n",
        "from PIL import Image\n",
        "\n",
        "input_image = Image.open('s.jpg').convert('L')  # Convert to grayscale\n",
        "input_image = input_image.resize((28, 28))  # Resize to 28x28 pixels\n",
        "input_image = np.array(input_image)  # Convert to numpy array\n",
        "\n",
        "# Reshape and normalize the input image\n",
        "input_image = input_image.reshape(1, 784)  # Reshape to (1, 784)\n",
        "input_image = input_image.astype('float32') / 255\n",
        "\n",
        "# Make a prediction\n",
        "predictions = model.predict(input_image)\n",
        "\n",
        "# Interpret the prediction\n",
        "predicted_digit = np.argmax(predictions)\n",
        "\n",
        "print(\"Predicted digit:\", predicted_digit)"
      ]
    },
    {
      "cell_type": "code",
      "execution_count": null,
      "metadata": {
        "id": "-OsK3vTxphYV"
      },
      "outputs": [],
      "source": []
    }
  ],
  "metadata": {
    "colab": {
      "provenance": []
    },
    "kernelspec": {
      "display_name": "Python 3",
      "name": "python3"
    },
    "language_info": {
      "codemirror_mode": {
        "name": "ipython",
        "version": 3
      },
      "file_extension": ".py",
      "mimetype": "text/x-python",
      "name": "python",
      "nbconvert_exporter": "python",
      "pygments_lexer": "ipython3",
      "version": "3.10.8"
    }
  },
  "nbformat": 4,
  "nbformat_minor": 0
}
